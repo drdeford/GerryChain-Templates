{
 "cells": [
  {
   "cell_type": "markdown",
   "metadata": {},
   "source": [
    "# Medium Grid Chain"
   ]
  },
  {
   "cell_type": "code",
   "execution_count": 1,
   "metadata": {},
   "outputs": [],
   "source": [
    "import random\n",
    "\n",
    "import matplotlib.pyplot as plt\n",
    "from functools import partial\n",
    "import networkx as nx\n",
    "\n",
    "from gerrychain import MarkovChain\n",
    "from gerrychain.constraints import (\n",
    "    Validator,\n",
    "    single_flip_contiguous,\n",
    "    within_percent_of_ideal_population,\n",
    ")\n",
    "from gerrychain.proposals import propose_random_flip\n",
    "from gerrychain.accept import always_accept\n",
    "from gerrychain.updaters import Tally, cut_edges\n",
    "from gerrychain.partition import Partition\n",
    "from gerrychain.proposals import recom\n",
    "from numpy import linalg as LA"
   ]
  },
  {
   "cell_type": "markdown",
   "metadata": {},
   "source": [
    "## Setup"
   ]
  },
  {
   "cell_type": "markdown",
   "metadata": {},
   "source": [
    "### Create graph"
   ]
  },
  {
   "cell_type": "code",
   "execution_count": 2,
   "metadata": {},
   "outputs": [],
   "source": [
    "gn = 6\n",
    "k = 5\n",
    "ns = 50\n",
    "p = 0.5\n",
    "\n",
    "graph = nx.grid_graph([k * gn, k * gn])\n",
    "\n",
    "for n in graph.nodes():\n",
    "    graph.node[n][\"population\"] = 1\n",
    "\n",
    "    if random.random() < p:\n",
    "        graph.node[n][\"pink\"] = 1\n",
    "        graph.node[n][\"purple\"] = 0\n",
    "    else:\n",
    "        graph.node[n][\"pink\"] = 0\n",
    "        graph.node[n][\"purple\"] = 1\n",
    "    if 0 in n or k * gn - 1 in n:\n",
    "        graph.node[n][\"boundary_node\"] = True\n",
    "        graph.node[n][\"boundary_perim\"] = 1\n",
    "\n",
    "    else:\n",
    "        graph.node[n][\"boundary_node\"] = False\n",
    "\n",
    "# this part adds queen adjacency\n",
    "# for i in range(k * gn - 1):\n",
    "#     for j in range(k * gn):\n",
    "#         if j < (k * gn - 1):\n",
    "#             graph.add_edge((i, j), (i + 1, j + 1))\n",
    "#             graph[(i, j)][(i + 1, j + 1)][\"shared_perim\"] = 0\n",
    "#         if j > 0:\n",
    "#             graph.add_edge((i, j), (i + 1, j - 1))\n",
    "#             graph[(i, j)][(i + 1, j - 1)][\"shared_perim\"] = 0"
   ]
  },
  {
   "cell_type": "markdown",
   "metadata": {},
   "source": [
    "### Build assignment"
   ]
  },
  {
   "cell_type": "code",
   "execution_count": 3,
   "metadata": {},
   "outputs": [],
   "source": [
    "cddict = {x: int(x[0] / gn) for x in graph.nodes()}\n",
    "pos = {x: x for x in graph.nodes()}"
   ]
  },
  {
   "cell_type": "markdown",
   "metadata": {},
   "source": [
    "### Configure updaters"
   ]
  },
  {
   "cell_type": "code",
   "execution_count": 4,
   "metadata": {},
   "outputs": [],
   "source": [
    "def step_num(partition):\n",
    "    parent = partition.parent\n",
    "    if not parent:\n",
    "        return 0\n",
    "    return parent[\"step_num\"] + 1\n",
    "\n",
    "\n",
    "updaters = {\n",
    "    \"population\": Tally(\"population\"),\n",
    "    \"cut_edges\": cut_edges,\n",
    "    \"step_num\": step_num,\n",
    "    # \"Pink-Purple\": Election(\"Pink-Purple\", {\"Pink\":\"pink\",\"Purple\":\"purple\"})\n",
    "}"
   ]
  },
  {
   "cell_type": "markdown",
   "metadata": {},
   "source": [
    "## First Markov chain"
   ]
  },
  {
   "cell_type": "markdown",
   "metadata": {},
   "source": [
    "### Build first partition"
   ]
  },
  {
   "cell_type": "code",
   "execution_count": 5,
   "metadata": {},
   "outputs": [],
   "source": [
    "grid_partition = Partition(graph, assignment=cddict, updaters=updaters)"
   ]
  },
  {
   "cell_type": "markdown",
   "metadata": {},
   "source": [
    "### Add constraints"
   ]
  },
  {
   "cell_type": "code",
   "execution_count": 6,
   "metadata": {},
   "outputs": [],
   "source": [
    "popbound = within_percent_of_ideal_population(grid_partition, 0.1)"
   ]
  },
  {
   "cell_type": "markdown",
   "metadata": {},
   "source": [
    "### Setup Proposal"
   ]
  },
  {
   "cell_type": "code",
   "execution_count": 7,
   "metadata": {},
   "outputs": [],
   "source": [
    "ideal_population = sum(grid_partition[\"population\"].values()) / len(grid_partition)\n",
    "\n",
    "tree_proposal = partial(\n",
    "    recom,\n",
    "    pop_col=\"population\",\n",
    "    pop_target=ideal_population,\n",
    "    epsilon=0.05,\n",
    "    node_repeats=1,\n",
    ")"
   ]
  },
  {
   "cell_type": "markdown",
   "metadata": {},
   "source": [
    "### Build and run first Markov chain"
   ]
  },
  {
   "cell_type": "code",
   "execution_count": 8,
   "metadata": {},
   "outputs": [],
   "source": [
    "recom_chain = MarkovChain(\n",
    "    tree_proposal,\n",
    "    constraints=[popbound],\n",
    "    accept=always_accept,\n",
    "    initial_state=grid_partition,\n",
    "    total_steps=100,\n",
    ")"
   ]
  },
  {
   "cell_type": "code",
   "execution_count": 9,
   "metadata": {},
   "outputs": [
    {
     "name": "stdout",
     "output_type": "stream",
     "text": [
      "Finished ReCom\n"
     ]
    }
   ],
   "source": [
    "for part in recom_chain:\n",
    "    pass\n",
    "\n",
    "final_assignment = part.assignment\n",
    "\n",
    "plt.figure()\n",
    "nx.draw(\n",
    "    graph,\n",
    "    pos={x: x for x in graph.nodes()},\n",
    "    node_color=[final_assignment[x] for x in graph.nodes()],\n",
    "    node_size=ns,\n",
    "    node_shape=\"s\",\n",
    "    cmap=\"tab20\",\n",
    ")\n",
    "plt.savefig(\"./plots/medium/end_of_tree.png\")\n",
    "plt.close()\n",
    "print(\"Finished ReCom\")\n"
   ]
  },
  {
   "cell_type": "markdown",
   "metadata": {},
   "source": [
    "## Second Markov chain"
   ]
  },
  {
   "cell_type": "markdown",
   "metadata": {},
   "source": [
    "### Build second initial partition"
   ]
  },
  {
   "cell_type": "code",
   "execution_count": 10,
   "metadata": {},
   "outputs": [],
   "source": [
    "squiggle_partition = Partition(graph, assignment=part.assignment, updaters=updaters)"
   ]
  },
  {
   "cell_type": "markdown",
   "metadata": {},
   "source": [
    "### Add constraints"
   ]
  },
  {
   "cell_type": "code",
   "execution_count": 11,
   "metadata": {},
   "outputs": [],
   "source": [
    "popbound = within_percent_of_ideal_population(squiggle_partition, 0.1)"
   ]
  },
  {
   "cell_type": "markdown",
   "metadata": {},
   "source": [
    "### Build and run second chain"
   ]
  },
  {
   "cell_type": "code",
   "execution_count": 12,
   "metadata": {},
   "outputs": [
    {
     "name": "stdout",
     "output_type": "stream",
     "text": [
      "Finished Squiggling\n"
     ]
    }
   ],
   "source": [
    "squiggle_chain = MarkovChain(\n",
    "    propose_random_flip,\n",
    "    Validator([single_flip_contiguous, popbound]),\n",
    "    accept=always_accept,\n",
    "    initial_state=squiggle_partition,\n",
    "    total_steps=100_000,\n",
    ")\n",
    "\n",
    "\n",
    "for part2 in squiggle_chain:\n",
    "    pass\n",
    "\n",
    "\n",
    "plt.figure()\n",
    "nx.draw(\n",
    "    graph,\n",
    "    pos={x: x for x in graph.nodes()},\n",
    "    node_color=[part2.assignment[x] for x in graph.nodes()],\n",
    "    node_size=ns,\n",
    "    node_shape=\"s\",\n",
    "    cmap=\"tab20\",\n",
    ")\n",
    "plt.savefig(\"./plots/medium/end_of_boundary.png\")\n",
    "plt.close()\n",
    "print(\"Finished Squiggling\")"
   ]
  },
  {
   "cell_type": "markdown",
   "metadata": {},
   "source": [
    "## Final Markov chain"
   ]
  },
  {
   "cell_type": "markdown",
   "metadata": {},
   "source": [
    "### Build final partition"
   ]
  },
  {
   "cell_type": "code",
   "execution_count": 13,
   "metadata": {},
   "outputs": [],
   "source": [
    "final_partition = Partition(graph, assignment=part2.assignment, updaters=updaters)"
   ]
  },
  {
   "cell_type": "markdown",
   "metadata": {},
   "source": [
    "### Add constraints"
   ]
  },
  {
   "cell_type": "code",
   "execution_count": 14,
   "metadata": {},
   "outputs": [],
   "source": [
    "popbound = within_percent_of_ideal_population(final_partition, 0.3)"
   ]
  },
  {
   "cell_type": "markdown",
   "metadata": {},
   "source": [
    "### Setup Spectral Proposal"
   ]
  },
  {
   "cell_type": "code",
   "execution_count": 15,
   "metadata": {},
   "outputs": [],
   "source": [
    "def spectral_cut(G):\n",
    "    nlist = list(G.nodes())\n",
    "    n = len(nlist)\n",
    "    NLM = (nx.normalized_laplacian_matrix(G)).todense()\n",
    "    # LM = (nx.laplacian_matrix(G)).todense()\n",
    "    NLMva, NLMve = LA.eigh(NLM)\n",
    "    NFv = NLMve[:, 1]\n",
    "    xNFv = [NFv.item(x) for x in range(n)]\n",
    "    node_color = [xNFv[x] > 0 for x in range(n)]\n",
    "\n",
    "    clusters = {nlist[x]: node_color[x] for x in range(n)}\n",
    "\n",
    "    return clusters\n",
    "\n",
    "\n",
    "def propose_spectral_merge(partition):\n",
    "    edge = random.choice(tuple(partition[\"cut_edges\"]))\n",
    "    # print(edge)\n",
    "    et = [partition.assignment[edge[0]], partition.assignment[edge[1]]]\n",
    "    # print(et)\n",
    "    sgn = []\n",
    "    for n in partition.graph.nodes():\n",
    "        if partition.assignment[n] in et:\n",
    "            sgn.append(n)\n",
    "\n",
    "    # print(len(sgn))\n",
    "    sgraph = nx.subgraph(partition.graph, sgn)\n",
    "\n",
    "    edd = {0: et[0], 1: et[1]}\n",
    "\n",
    "    # print(edd)\n",
    "\n",
    "    clusters = spectral_cut(sgraph)\n",
    "    # print(len(clusters))\n",
    "    flips = {}\n",
    "    for val in clusters.keys():\n",
    "        flips[val] = edd[clusters[val]]\n",
    "\n",
    "    # print(len(flips))\n",
    "    # print(partition.assignment)\n",
    "    # print(flips)\n",
    "    return partition.flip(flips)"
   ]
  },
  {
   "cell_type": "markdown",
   "metadata": {},
   "source": [
    "### Build and run final Markov chain"
   ]
  },
  {
   "cell_type": "code",
   "execution_count": 16,
   "metadata": {},
   "outputs": [
    {
     "name": "stdout",
     "output_type": "stream",
     "text": [
      "Finished Spectral\n"
     ]
    }
   ],
   "source": [
    "final_chain = MarkovChain(\n",
    "    propose_spectral_merge,\n",
    "    Validator([]),\n",
    "    accept=always_accept,\n",
    "    initial_state=final_partition,\n",
    "    total_steps=25,\n",
    ")\n",
    "\n",
    "\n",
    "for part3 in final_chain:\n",
    "    plt.figure()\n",
    "    nx.draw(\n",
    "        graph,\n",
    "        pos,\n",
    "        node_color=[part3.assignment[x] for x in graph.nodes()],\n",
    "        node_size=ns,\n",
    "        node_shape=\"s\",\n",
    "        cmap=\"tab20\",\n",
    "    )\n",
    "    plt.savefig(f\"./plots/medium/spectral_step{part3['step_num']:02d}.png\")\n",
    "    plt.close()\n",
    "\n",
    "print(\"Finished Spectral\")"
   ]
  }
 ],
 "metadata": {
  "kernelspec": {
   "display_name": "Python 3",
   "language": "python",
   "name": "python3"
  },
  "language_info": {
   "codemirror_mode": {
    "name": "ipython",
    "version": 3
   },
   "file_extension": ".py",
   "mimetype": "text/x-python",
   "name": "python",
   "nbconvert_exporter": "python",
   "pygments_lexer": "ipython3",
   "version": "3.7.1"
  }
 },
 "nbformat": 4,
 "nbformat_minor": 2
}
